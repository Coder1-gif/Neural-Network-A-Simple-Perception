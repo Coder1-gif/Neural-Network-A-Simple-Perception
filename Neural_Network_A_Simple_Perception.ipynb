{
  "nbformat": 4,
  "nbformat_minor": 0,
  "metadata": {
    "colab": {
      "provenance": []
    },
    "kernelspec": {
      "name": "python3",
      "display_name": "Python 3"
    },
    "language_info": {
      "name": "python"
    }
  },
  "cells": [
    {
      "cell_type": "markdown",
      "source": [
        "        *** Neural Network A Simple Perception***\n"
      ],
      "metadata": {
        "id": "rb-zMO-uUpNh"
      }
    },
    {
      "cell_type": "markdown",
      "source": [
        "Q1. What is deep learning, and how is it connected to artificial intelligence?\n",
        "\n",
        "Ans. Deep learning is a specialized area within artificial intelligence (AI) that focuses on using neural networks to analyze and interpret complex data. It mimics the human brain's structure and function, allowing machines to learn from vast amounts of information. By leveraging multiple layers of processing, deep learning enables advancements in tasks such as image recognition, natural language processing, and autonomous systems. This connection to AI is crucial, as deep learning enhances the ability of machines to make intelligent decisions and improve their performance over time.\n",
        "\n",
        "Deep learning is a transformative approach in artificial intelligence (AI) that utilizes multilayered neural networks to process and learn from large datasets. It enables machines to recognize patterns and make predictions with minimal human intervention. By simulating the way the human brain operates, deep learning excels in tasks like speech recognition, image classification, and natural language understanding. This relationship with AI is significant, as deep learning serves as a powerful tool that enhances the capabilities of AI systems, allowing them to perform complex tasks more efficiently and accurately.\n"
      ],
      "metadata": {
        "id": "R_8_2vJqU5q9"
      }
    },
    {
      "cell_type": "markdown",
      "source": [
        "Q2. What is a neural network, and what are the different types of neural networks?\n",
        "\n",
        "Ans. A neural network is a computational model inspired by the human brain, consisting of interconnected nodes (neurons) that process data. It learns patterns through training on datasets, adjusting connections (weights) to minimize errors.\n",
        "\n",
        "Different types of neural networks include:\n",
        "\n",
        "Feedforward Neural Networks: Data moves in one direction, from input to output.\n",
        "\n",
        "Convolutional Neural Networks (CNNs): Primarily used for image processing, they utilize convolutional layers to detect features.\n",
        "\n",
        "Recurrent Neural Networks (RNNs): Designed for sequential data, they maintain memory of previous inputs.\n",
        "\n",
        "Generative Adversarial Networks (GANs): Comprise two networks that compete to generate realistic data.\n"
      ],
      "metadata": {
        "id": "4oqi_jIwVKvi"
      }
    },
    {
      "cell_type": "markdown",
      "source": [
        "Q3. What is the mathematical structure of a neural network?\n",
        "\n",
        "Ans. The mathematical structure of a neural network consists of layers of interconnected nodes (neurons). Each neuron receives inputs, applies a weighted sum, and passes the result through an activation function. Mathematically, for a neuron \\( j \\) in layer \\( l \\):\n",
        "\n",
        "\\[\n",
        "z_j^{(l)} = \\sum_{i} w_{ij}^{(l)} a_i^{(l-1)} + b_j^{(l)}\n",
        "\\]\n",
        "\n",
        "where \\( w_{ij}^{(l)} \\) are the weights, \\( a_i^{(l-1)} \\) are the activations from the previous layer, and \\( b_j^{(l)} \\) is the bias. The output is then computed as:\n",
        "\n",
        "\\[\n",
        "a_j^{(l)} = f(z_j^{(l)})\n",
        "\\]\n",
        "\n",
        "where \\( f \\) is the activation function. This structure allows for complex mappings from inputs to outputs through multiple layers."
      ],
      "metadata": {
        "id": "q4eYazvZWWNh"
      }
    },
    {
      "cell_type": "markdown",
      "source": [
        "Q4. What is an activation function, and why is it essential in neural?\n",
        "\n",
        "Ans. An activation function is a mathematical function applied to the output of a neuron in a neural network, determining whether the neuron should be activated. It introduces non-linearity, enabling the network to learn complex patterns and relationships in data. Without activation functions, a neural network would only model linear relationships, severely limiting its capabilities. Common activation functions include:\n",
        "\n",
        "1. **Sigmoid**: Outputs values between 0 and 1, suitable for binary classification.\n",
        "\n",
        "2. **ReLU (Rectified Linear Unit)**: Outputs the input if positive; otherwise, it outputs zero, promoting sparsity.\n",
        "\n",
        "3. **Tanh**: Outputs values between -1 and 1, centering the data for better convergence.\n"
      ],
      "metadata": {
        "id": "3S8TvNKBWhXH"
      }
    },
    {
      "cell_type": "markdown",
      "source": [
        "Q5. Could you list some common activation functions used in neural networks?\n",
        "\n",
        "Ans.Certainly! Here are some common activation functions used in neural networks:\n",
        "\n",
        "1. **Sigmoid**: Outputs values between 0 and 1, useful for binary classification. It can cause vanishing gradients for deep networks.\n",
        "   \n",
        "2. **Tanh (Hyperbolic Tangent)**: Outputs values between -1 and 1, centering the data, which can improve convergence compared to sigmoid.\n",
        "\n",
        "3. **ReLU (Rectified Linear Unit)**: Outputs the input directly if positive; otherwise, it outputs zero. It helps mitigate the vanishing gradient problem and promotes sparsity.\n",
        "\n",
        "4. **Leaky ReLU**: A variant of ReLU that allows a small, non-zero gradient when the input is negative.\n",
        "\n",
        "5. **Softmax**: Converts logits into probabilities, commonly used in multi-class classification tasks."
      ],
      "metadata": {
        "id": "Kx1LCzXpWxqf"
      }
    },
    {
      "cell_type": "markdown",
      "source": [
        "Q6. What is a multilayer neural network?\n",
        "\n",
        "Ans. A multilayer neural network, also known as a deep neural network, consists of multiple layers of interconnected neurons, including an input layer, one or more hidden layers, and an output layer. Each layer processes data and passes it to the next, allowing the network to learn complex patterns and representations. The input layer receives raw data, hidden layers transform this data through weighted connections and activation functions, and the output layer generates predictions or classifications. This architecture enables the network to model intricate relationships, making multilayer neural networks essential for applications in image recognition, natural language processing, and more.\n"
      ],
      "metadata": {
        "id": "fYzBE-tjXJMf"
      }
    },
    {
      "cell_type": "markdown",
      "source": [
        "Q7. What is a loss function, and why is it crucial for neural network training?\n",
        "\n",
        "Ans.A loss function is a mathematical tool that quantifies the difference between a neural network's predictions and the actual target values. It measures how well the model performs a specific task, such as classification or regression. During training, the goal is to minimize this loss, guiding the optimization process to improve the model's accuracy. By calculating gradients based on the loss, the network adjusts its weights through backpropagation, enhancing its ability to make accurate predictions. Thus, the loss function is crucial for effectively training neural networks and ensuring they learn from their errors.\n",
        "\n",
        "A multilayer neural network, often referred to as a deep neural network, is composed of multiple layers of neurons, including an input layer, one or more hidden layers, and an output layer. Each layer processes input data and passes it to the subsequent layer, enabling the network to learn complex patterns and representations. The input layer receives raw data, hidden layers apply transformations through weighted connections and activation functions, and the output layer produces predictions or classifications. This architecture allows multilayer neural networks to model intricate relationships, making them vital for tasks in image recognition, natural language processing, and various other applications.\n"
      ],
      "metadata": {
        "id": "7nfdR4sXXTv6"
      }
    },
    {
      "cell_type": "markdown",
      "source": [
        "Q8. What are some common types of loss functions?\n",
        "\n",
        "Ans. Common types of loss functions used in neural networks include:\n",
        "\n",
        "1. **Mean Squared Error (MSE)**: Measures the average squared difference between predicted and actual values, commonly used in regression tasks.\n",
        "\n",
        "2. **Mean Absolute Error (MAE)**: Calculates the average absolute difference between predictions and actual values, providing robustness to outliers.\n",
        "\n",
        "3. **Binary Cross-Entropy**: Used for binary classification, it measures the performance of a model whose output is a probability value between 0 and 1.\n",
        "\n",
        "4. **Categorical Cross-Entropy**: Applied in multi-class classification tasks, it quantifies the difference between the predicted probability distribution and the true distribution.\n",
        "\n",
        "5. **Hinge Loss**: Used in support vector machines, it focuses on maximizing the margin between classes.\n"
      ],
      "metadata": {
        "id": "h7bbHjDAXc57"
      }
    },
    {
      "cell_type": "markdown",
      "source": [
        "Q9. How does a neural network learn?\n",
        "\n",
        "Ans. A neural network learns through a process called training, which involves adjusting its weights based on the input data and the corresponding target outputs. Initially, the network makes predictions using random weights. The difference between the predicted and actual outputs is quantified using a loss function. This loss is then minimized using optimization algorithms, such as stochastic gradient descent. During backpropagation, the network calculates gradients of the loss with respect to each weight, updating them to reduce the loss. This iterative process continues over multiple epochs, allowing the network to learn complex patterns and improve its performance on the given task.\n"
      ],
      "metadata": {
        "id": "zUS-R6KIXl8k"
      }
    },
    {
      "cell_type": "markdown",
      "source": [
        "Q10. What is an optimizer in neural networks, and why is it necessary?\n",
        "\n",
        "Ans. An optimizer in neural networks is an algorithm that adjusts the model's weights to minimize the loss function during training. It plays a crucial role in the learning process by determining how the weights are updated based on the gradients calculated during backpropagation. Optimizers help improve the convergence speed and overall performance of the model. Common optimizers include Stochastic Gradient Descent (SGD), Adam, and RMSprop, each with unique strategies for weight updates. Without an optimizer, the network would not effectively learn from the data, making it essential for achieving accurate predictions and enhancing the model's ability to generalize to new data.\n"
      ],
      "metadata": {
        "id": "cGqCBfVZXvwY"
      }
    },
    {
      "cell_type": "markdown",
      "source": [
        "Q11. Could you briefly describe some common optimizers?\n",
        "\n",
        "Ans. Common optimizers used in neural networks include:\n",
        "\n",
        "1. **Stochastic Gradient Descent (SGD)**: Updates weights using a small batch of data, which helps in faster convergence but can be noisy.\n",
        "\n",
        "2. **Momentum**: Enhances SGD by adding a fraction of the previous weight update to the current update, helping to accelerate convergence and reduce oscillations.\n",
        "\n",
        "3. **Adam (Adaptive Moment Estimation)**: Combines the benefits of momentum and RMSprop, adapting the learning rate for each parameter based on first and second moments of the gradients, making it efficient for various tasks.\n",
        "\n",
        "4. **RMSprop**: Adapts the learning rate for each parameter based on the average of recent gradients, helping to stabilize training.\n"
      ],
      "metadata": {
        "id": "ojorqwOHX4O-"
      }
    },
    {
      "cell_type": "markdown",
      "source": [
        "Q12. Can you explain forward and backward propagation in a neural network?\n",
        "\n",
        "Ans. Forward propagation is the process where input data passes through the neural network layers, with each neuron applying weights and activation functions to produce an output. This output is then used to make predictions. The final output is compared to the actual target values using a loss function to calculate the error.\n",
        "\n",
        "Backward propagation, or backpropagation, follows forward propagation. It computes the gradients of the loss function with respect to each weight by applying the chain rule. These gradients indicate how to adjust the weights to minimize the loss. The weights are then updated using an optimizer, improving the model's performance iteratively.\n"
      ],
      "metadata": {
        "id": "f_BCqcUeYBBf"
      }
    },
    {
      "cell_type": "markdown",
      "source": [
        "Q13. What is weight initialization, and how does it impact training?\n",
        "\n",
        "Ans. Weight initialization is the process of setting the initial values of the weights in a neural network before training begins. Proper initialization is crucial as it can significantly impact the convergence speed and overall performance of the model. If weights are initialized too small, the network may learn slowly, while large weights can lead to saturation of activation functions, causing vanishing or exploding gradients. Common initialization techniques include Xavier (Glorot) initialization, which is suitable for sigmoid and tanh activations, and He initialization, designed for ReLU activations. Effective weight initialization helps ensure faster convergence and better training outcomes.\n"
      ],
      "metadata": {
        "id": "xZsqlvz5YKQK"
      }
    },
    {
      "cell_type": "markdown",
      "source": [
        "Q14. What is the vanishing gradient problem in deep learning?\n",
        "\n",
        "Ans. The vanishing gradient problem occurs in deep learning when gradients of the loss function become exceedingly small as they are propagated backward through the layers of a neural network. This issue is particularly prevalent in deep networks with many layers, where the gradients can diminish to near-zero values, leading to minimal weight updates. As a result, the network struggles to learn and may become stuck during training, failing to capture complex patterns. This problem is often mitigated by using activation functions like ReLU, employing batch normalization, or utilizing architectures such as LSTMs and residual networks that facilitate gradient flow.\n"
      ],
      "metadata": {
        "id": "ZOBnYDBHYVDM"
      }
    },
    {
      "cell_type": "markdown",
      "source": [
        "Q15. What is the exploding gradient problem?\n",
        "\n",
        "Ans. The exploding gradient problem occurs in deep learning when gradients of the loss function become excessively large during backpropagation. This can happen in deep networks with many layers, where the repeated multiplication of large weight values leads to gradients that grow exponentially. As a result, weight updates can become excessively large, causing the model to diverge and fail to converge during training. This issue can lead to instability and poor performance. Techniques to mitigate exploding gradients include gradient clipping, which limits the size of the gradients, and using architectures like LSTMs or GRUs that are designed to handle long-range dependencies more effectively.\n"
      ],
      "metadata": {
        "id": "-X0b2a6RYmkp"
      }
    },
    {
      "cell_type": "markdown",
      "source": [
        "                      *** Practical***"
      ],
      "metadata": {
        "id": "KKaw6h-QY5H1"
      }
    },
    {
      "cell_type": "code",
      "source": [
        "#Q1. How do you create a simple perceptron for basic binary classification?\n",
        "\n",
        "import numpy as np\n",
        "\n",
        "class Perceptron:\n",
        "    def __init__(self, input_size, learning_rate=0.1, epochs=10):\n",
        "        self.weights = np.zeros(input_size + 1)  # +1 for bias\n",
        "        self.learning_rate = learning_rate\n",
        "        self.epochs = epochs\n",
        "\n",
        "    def activation(self, x):\n",
        "        # Step function: returns 1 if input >=0 else 0\n",
        "        return 1 if x >= 0 else 0\n",
        "\n",
        "    def predict(self, x):\n",
        "        # Add bias input of 1\n",
        "        x_with_bias = np.insert(x, 0, 1)\n",
        "        weighted_sum = np.dot(self.weights, x_with_bias)\n",
        "        return self.activation(weighted_sum)\n",
        "\n",
        "    def train(self, X, y):\n",
        "        for epoch in range(self.epochs):\n",
        "            for inputs, label in zip(X, y):\n",
        "                prediction = self.predict(inputs)\n",
        "                error = label - prediction\n",
        "                # Update weights and bias\n",
        "                self.weights[1:] += self.learning_rate * error * inputs\n",
        "                self.weights[0] += self.learning_rate * error  # bias update\n",
        "\n",
        "if __name__ == \"__main__\":\n",
        "    # Sample training data: logical AND function\n",
        "    X = np.array([\n",
        "        [0, 0],\n",
        "        [0, 1],\n",
        "        [1, 0],\n",
        "        [1, 1]\n",
        "    ])\n",
        "    y = np.array([0, 0, 0, 1])  # AND output\n",
        "\n",
        "    perceptron = Perceptron(input_size=2)\n",
        "    perceptron.train(X, y)\n",
        "\n",
        "    print(\"Trained weights:\", perceptron.weights)\n",
        "\n",
        "    # Testing\n",
        "    for inputs in X:\n",
        "        print(f\"Input: {inputs}, Predicted class: {perceptron.predict(inputs)}\")\n"
      ],
      "metadata": {
        "colab": {
          "base_uri": "https://localhost:8080/"
        },
        "id": "SHOH9ohMY9io",
        "outputId": "3ef2be84-af04-4884-8174-79b21619fcdc"
      },
      "execution_count": null,
      "outputs": [
        {
          "output_type": "stream",
          "name": "stdout",
          "text": [
            "Trained weights: [-0.2  0.2  0.1]\n",
            "Input: [0 0], Predicted class: 0\n",
            "Input: [0 1], Predicted class: 0\n",
            "Input: [1 0], Predicted class: 0\n",
            "Input: [1 1], Predicted class: 1\n"
          ]
        }
      ]
    },
    {
      "cell_type": "code",
      "source": [
        "#Q2. How can you build a neural network with one hidden layer using Keras?\n",
        "\n",
        "from tensorflow.keras.models import Sequential\n",
        "from tensorflow.keras.layers import Dense\n",
        "\n",
        "# Define the input dimension. This should correspond to the number of features in your input data.\n",
        "# Assuming 2 input features based on the previous perceptron example.\n",
        "input_dimension = 2\n",
        "\n",
        "# Define the model architecture\n",
        "model = Sequential([\n",
        "    Dense(units=16, activation='relu', input_shape=(input_dimension,)),  # hidden layer with 16 neurons\n",
        "    Dense(units=1, activation='sigmoid')  # output layer for binary classification\n",
        "])\n",
        "\n",
        "# Compile the model with optimizer, loss, and metrics\n",
        "model.compile(optimizer='adam', loss='binary_crossentropy', metrics=['accuracy'])\n",
        "\n",
        "# Summary of the model\n",
        "model.summary()"
      ],
      "metadata": {
        "colab": {
          "base_uri": "https://localhost:8080/",
          "height": 246
        },
        "id": "r_9TTkvvZK6P",
        "outputId": "93aaa0fb-44f6-42d5-ffc2-3075a82d1565"
      },
      "execution_count": null,
      "outputs": [
        {
          "output_type": "stream",
          "name": "stderr",
          "text": [
            "/usr/local/lib/python3.11/dist-packages/keras/src/layers/core/dense.py:87: UserWarning: Do not pass an `input_shape`/`input_dim` argument to a layer. When using Sequential models, prefer using an `Input(shape)` object as the first layer in the model instead.\n",
            "  super().__init__(activity_regularizer=activity_regularizer, **kwargs)\n"
          ]
        },
        {
          "output_type": "display_data",
          "data": {
            "text/plain": [
              "\u001b[1mModel: \"sequential\"\u001b[0m\n"
            ],
            "text/html": [
              "<pre style=\"white-space:pre;overflow-x:auto;line-height:normal;font-family:Menlo,'DejaVu Sans Mono',consolas,'Courier New',monospace\"><span style=\"font-weight: bold\">Model: \"sequential\"</span>\n",
              "</pre>\n"
            ]
          },
          "metadata": {}
        },
        {
          "output_type": "display_data",
          "data": {
            "text/plain": [
              "┏━━━━━━━━━━━━━━━━━━━━━━━━━━━━━━━━━┳━━━━━━━━━━━━━━━━━━━━━━━━┳━━━━━━━━━━━━━━━┓\n",
              "┃\u001b[1m \u001b[0m\u001b[1mLayer (type)                   \u001b[0m\u001b[1m \u001b[0m┃\u001b[1m \u001b[0m\u001b[1mOutput Shape          \u001b[0m\u001b[1m \u001b[0m┃\u001b[1m \u001b[0m\u001b[1m      Param #\u001b[0m\u001b[1m \u001b[0m┃\n",
              "┡━━━━━━━━━━━━━━━━━━━━━━━━━━━━━━━━━╇━━━━━━━━━━━━━━━━━━━━━━━━╇━━━━━━━━━━━━━━━┩\n",
              "│ dense (\u001b[38;5;33mDense\u001b[0m)                   │ (\u001b[38;5;45mNone\u001b[0m, \u001b[38;5;34m16\u001b[0m)             │            \u001b[38;5;34m48\u001b[0m │\n",
              "├─────────────────────────────────┼────────────────────────┼───────────────┤\n",
              "│ dense_1 (\u001b[38;5;33mDense\u001b[0m)                 │ (\u001b[38;5;45mNone\u001b[0m, \u001b[38;5;34m1\u001b[0m)              │            \u001b[38;5;34m17\u001b[0m │\n",
              "└─────────────────────────────────┴────────────────────────┴───────────────┘\n"
            ],
            "text/html": [
              "<pre style=\"white-space:pre;overflow-x:auto;line-height:normal;font-family:Menlo,'DejaVu Sans Mono',consolas,'Courier New',monospace\">┏━━━━━━━━━━━━━━━━━━━━━━━━━━━━━━━━━┳━━━━━━━━━━━━━━━━━━━━━━━━┳━━━━━━━━━━━━━━━┓\n",
              "┃<span style=\"font-weight: bold\"> Layer (type)                    </span>┃<span style=\"font-weight: bold\"> Output Shape           </span>┃<span style=\"font-weight: bold\">       Param # </span>┃\n",
              "┡━━━━━━━━━━━━━━━━━━━━━━━━━━━━━━━━━╇━━━━━━━━━━━━━━━━━━━━━━━━╇━━━━━━━━━━━━━━━┩\n",
              "│ dense (<span style=\"color: #0087ff; text-decoration-color: #0087ff\">Dense</span>)                   │ (<span style=\"color: #00d7ff; text-decoration-color: #00d7ff\">None</span>, <span style=\"color: #00af00; text-decoration-color: #00af00\">16</span>)             │            <span style=\"color: #00af00; text-decoration-color: #00af00\">48</span> │\n",
              "├─────────────────────────────────┼────────────────────────┼───────────────┤\n",
              "│ dense_1 (<span style=\"color: #0087ff; text-decoration-color: #0087ff\">Dense</span>)                 │ (<span style=\"color: #00d7ff; text-decoration-color: #00d7ff\">None</span>, <span style=\"color: #00af00; text-decoration-color: #00af00\">1</span>)              │            <span style=\"color: #00af00; text-decoration-color: #00af00\">17</span> │\n",
              "└─────────────────────────────────┴────────────────────────┴───────────────┘\n",
              "</pre>\n"
            ]
          },
          "metadata": {}
        },
        {
          "output_type": "display_data",
          "data": {
            "text/plain": [
              "\u001b[1m Total params: \u001b[0m\u001b[38;5;34m65\u001b[0m (260.00 B)\n"
            ],
            "text/html": [
              "<pre style=\"white-space:pre;overflow-x:auto;line-height:normal;font-family:Menlo,'DejaVu Sans Mono',consolas,'Courier New',monospace\"><span style=\"font-weight: bold\"> Total params: </span><span style=\"color: #00af00; text-decoration-color: #00af00\">65</span> (260.00 B)\n",
              "</pre>\n"
            ]
          },
          "metadata": {}
        },
        {
          "output_type": "display_data",
          "data": {
            "text/plain": [
              "\u001b[1m Trainable params: \u001b[0m\u001b[38;5;34m65\u001b[0m (260.00 B)\n"
            ],
            "text/html": [
              "<pre style=\"white-space:pre;overflow-x:auto;line-height:normal;font-family:Menlo,'DejaVu Sans Mono',consolas,'Courier New',monospace\"><span style=\"font-weight: bold\"> Trainable params: </span><span style=\"color: #00af00; text-decoration-color: #00af00\">65</span> (260.00 B)\n",
              "</pre>\n"
            ]
          },
          "metadata": {}
        },
        {
          "output_type": "display_data",
          "data": {
            "text/plain": [
              "\u001b[1m Non-trainable params: \u001b[0m\u001b[38;5;34m0\u001b[0m (0.00 B)\n"
            ],
            "text/html": [
              "<pre style=\"white-space:pre;overflow-x:auto;line-height:normal;font-family:Menlo,'DejaVu Sans Mono',consolas,'Courier New',monospace\"><span style=\"font-weight: bold\"> Non-trainable params: </span><span style=\"color: #00af00; text-decoration-color: #00af00\">0</span> (0.00 B)\n",
              "</pre>\n"
            ]
          },
          "metadata": {}
        }
      ]
    },
    {
      "cell_type": "code",
      "source": [
        "#Q3. How do you initialize weights using the Xavier (Glorot) initialization method in Keras?\n",
        "\n",
        "import tensorflow as tf\n",
        "from tensorflow.keras import layers, models\n",
        "\n",
        "# Load the MNIST dataset\n",
        "# This will download the data if you haven't done so already\n",
        "mnist = tf.keras.datasets.mnist\n",
        "(train_images, train_labels), (test_images, test_labels) = mnist.load_data()\n",
        "\n",
        "# Preprocess the data: Normalize pixel values from 0-255 to 0-1\n",
        "train_images = train_images / 255.0\n",
        "test_images = test_images / 255.0\n",
        "\n",
        "# Reshape the images to be flat, as the Dense layers expect a 1D input per sample\n",
        "# The original images are 28x28, so the flattened size is 28 * 28 = 784\n",
        "input_dimension = train_images.shape[1] * train_images.shape[2]\n",
        "train_images = train_images.reshape(train_images.shape[0], input_dimension)\n",
        "test_images = test_images.reshape(test_images.shape[0], input_dimension)\n",
        "\n",
        "# Create a Sequential model\n",
        "model = models.Sequential()\n",
        "\n",
        "# Add layers with Xavier initialization\n",
        "# The input_shape for the first layer should match the flattened image size\n",
        "model.add(layers.Dense(128, activation='relu', kernel_initializer='glorot_uniform', input_shape=(input_dimension,)))  # Hidden layer\n",
        "model.add(layers.Dense(64, activation='relu', kernel_initializer='glorot_uniform'))  # Hidden layer\n",
        "# The output layer has 10 units with softmax activation for the 10 classes in MNIST\n",
        "model.add(layers.Dense(10, activation='softmax', kernel_initializer='glorot_uniform'))  # Output layer for multi-class classification\n",
        "\n",
        "# Compile the model\n",
        "model.compile(optimizer='adam',\n",
        "              loss='sparse_categorical_crossentropy', # Use sparse_categorical_crossentropy for integer labels\n",
        "              metrics=['accuracy'])\n",
        "\n",
        "# Train the model using the loaded MNIST data\n",
        "print(\"Training the model...\")\n",
        "history = model.fit(train_images, train_labels, epochs=5, # Reduced epochs for a quicker example\n",
        "                    validation_data=(test_images, test_labels))\n",
        "\n",
        "# Evaluate the model\n",
        "print(\"\\nEvaluating the model...\")\n",
        "test_loss, test_acc = model.evaluate(test_images, test_labels)\n",
        "\n",
        "print(f'\\nTest accuracy: {test_acc * 100:.2f}%')\n",
        "\n"
      ],
      "metadata": {
        "colab": {
          "base_uri": "https://localhost:8080/"
        },
        "id": "MFXnp__naHvo",
        "outputId": "42628b1d-e3a8-48b1-8962-34ea89c0b3d8"
      },
      "execution_count": null,
      "outputs": [
        {
          "output_type": "stream",
          "name": "stdout",
          "text": [
            "Downloading data from https://storage.googleapis.com/tensorflow/tf-keras-datasets/mnist.npz\n",
            "\u001b[1m11490434/11490434\u001b[0m \u001b[32m━━━━━━━━━━━━━━━━━━━━\u001b[0m\u001b[37m\u001b[0m \u001b[1m0s\u001b[0m 0us/step\n"
          ]
        },
        {
          "output_type": "stream",
          "name": "stderr",
          "text": [
            "/usr/local/lib/python3.11/dist-packages/keras/src/layers/core/dense.py:87: UserWarning: Do not pass an `input_shape`/`input_dim` argument to a layer. When using Sequential models, prefer using an `Input(shape)` object as the first layer in the model instead.\n",
            "  super().__init__(activity_regularizer=activity_regularizer, **kwargs)\n"
          ]
        },
        {
          "output_type": "stream",
          "name": "stdout",
          "text": [
            "Training the model...\n",
            "Epoch 1/5\n",
            "\u001b[1m1875/1875\u001b[0m \u001b[32m━━━━━━━━━━━━━━━━━━━━\u001b[0m\u001b[37m\u001b[0m \u001b[1m10s\u001b[0m 5ms/step - accuracy: 0.8699 - loss: 0.4418 - val_accuracy: 0.9591 - val_loss: 0.1275\n",
            "Epoch 2/5\n",
            "\u001b[1m1875/1875\u001b[0m \u001b[32m━━━━━━━━━━━━━━━━━━━━\u001b[0m\u001b[37m\u001b[0m \u001b[1m10s\u001b[0m 4ms/step - accuracy: 0.9649 - loss: 0.1121 - val_accuracy: 0.9703 - val_loss: 0.0968\n",
            "Epoch 3/5\n",
            "\u001b[1m1875/1875\u001b[0m \u001b[32m━━━━━━━━━━━━━━━━━━━━\u001b[0m\u001b[37m\u001b[0m \u001b[1m9s\u001b[0m 4ms/step - accuracy: 0.9782 - loss: 0.0715 - val_accuracy: 0.9681 - val_loss: 0.1078\n",
            "Epoch 4/5\n",
            "\u001b[1m1875/1875\u001b[0m \u001b[32m━━━━━━━━━━━━━━━━━━━━\u001b[0m\u001b[37m\u001b[0m \u001b[1m10s\u001b[0m 4ms/step - accuracy: 0.9831 - loss: 0.0537 - val_accuracy: 0.9759 - val_loss: 0.0727\n",
            "Epoch 5/5\n",
            "\u001b[1m1875/1875\u001b[0m \u001b[32m━━━━━━━━━━━━━━━━━━━━\u001b[0m\u001b[37m\u001b[0m \u001b[1m8s\u001b[0m 4ms/step - accuracy: 0.9865 - loss: 0.0417 - val_accuracy: 0.9773 - val_loss: 0.0776\n",
            "\n",
            "Evaluating the model...\n",
            "\u001b[1m313/313\u001b[0m \u001b[32m━━━━━━━━━━━━━━━━━━━━\u001b[0m\u001b[37m\u001b[0m \u001b[1m1s\u001b[0m 2ms/step - accuracy: 0.9730 - loss: 0.0900\n",
            "\n",
            "Test accuracy: 97.73%\n"
          ]
        }
      ]
    },
    {
      "cell_type": "code",
      "source": [
        "#Q4. How can you apply different activation functions in a neural network in Keras?\n",
        "\n",
        "import tensorflow as tf\n",
        "from tensorflow.keras import layers, models\n",
        "# Create a Sequential model\n",
        "model = models.Sequential()\n",
        "\n",
        "# Add layers with different activation functions\n",
        "model.add(layers.Dense(64, activation='relu', input_shape=(input_dimension,)))  # ReLU activation\n",
        "model.add(layers.Dense(64, activation='tanh'))  # Tanh activation\n",
        "model.add(layers.Dense(64, activation='sigmoid'))  # Sigmoid activation\n",
        "model.add(layers.Dense(10, activation='softmax'))  # Softmax activation for multi-class classification\n",
        "model.add(layers.Dense(64, input_shape=(input_dimension,)))  # No activation here\n",
        "model.add(layers.Activation('relu'))  # Apply ReLU activation separately\n",
        "model.compile(optimizer='adam', loss='sparse_categorical_crossentropy', metrics=['accuracy'])\n",
        "# Assuming you have training data in train_images and train_labels\n",
        "history = model.fit(train_images, train_labels, epochs=10, validation_data=(test_images, test_labels))\n",
        "test_loss, test_acc = model.evaluate(test_images, test_labels)\n",
        "print(f'Test accuracy: {test_acc * 100:.2f}%')\n",
        "\n",
        "\n"
      ],
      "metadata": {
        "colab": {
          "base_uri": "https://localhost:8080/"
        },
        "id": "WwB2pH2Ca6Mj",
        "outputId": "b3ebf48e-1b9f-43e8-f4a7-a7ab66b6ee6b"
      },
      "execution_count": null,
      "outputs": [
        {
          "output_type": "stream",
          "name": "stdout",
          "text": [
            "Epoch 1/10\n",
            "\u001b[1m1875/1875\u001b[0m \u001b[32m━━━━━━━━━━━━━━━━━━━━\u001b[0m\u001b[37m\u001b[0m \u001b[1m10s\u001b[0m 4ms/step - accuracy: 0.1060 - loss: 4.9002 - val_accuracy: 0.0980 - val_loss: 4.1589\n",
            "Epoch 2/10\n",
            "\u001b[1m1875/1875\u001b[0m \u001b[32m━━━━━━━━━━━━━━━━━━━━\u001b[0m\u001b[37m\u001b[0m \u001b[1m7s\u001b[0m 4ms/step - accuracy: 0.0988 - loss: 4.1589 - val_accuracy: 0.0980 - val_loss: 4.1589\n",
            "Epoch 3/10\n",
            "\u001b[1m1875/1875\u001b[0m \u001b[32m━━━━━━━━━━━━━━━━━━━━\u001b[0m\u001b[37m\u001b[0m \u001b[1m10s\u001b[0m 4ms/step - accuracy: 0.0984 - loss: 4.1589 - val_accuracy: 0.0980 - val_loss: 4.1589\n",
            "Epoch 4/10\n",
            "\u001b[1m1875/1875\u001b[0m \u001b[32m━━━━━━━━━━━━━━━━━━━━\u001b[0m\u001b[37m\u001b[0m \u001b[1m8s\u001b[0m 4ms/step - accuracy: 0.0994 - loss: 4.1589 - val_accuracy: 0.0980 - val_loss: 4.1589\n",
            "Epoch 5/10\n",
            "\u001b[1m1875/1875\u001b[0m \u001b[32m━━━━━━━━━━━━━━━━━━━━\u001b[0m\u001b[37m\u001b[0m \u001b[1m7s\u001b[0m 4ms/step - accuracy: 0.0990 - loss: 4.1589 - val_accuracy: 0.0980 - val_loss: 4.1589\n",
            "Epoch 6/10\n",
            "\u001b[1m1875/1875\u001b[0m \u001b[32m━━━━━━━━━━━━━━━━━━━━\u001b[0m\u001b[37m\u001b[0m \u001b[1m8s\u001b[0m 4ms/step - accuracy: 0.0976 - loss: 4.1589 - val_accuracy: 0.0980 - val_loss: 4.1589\n",
            "Epoch 7/10\n",
            "\u001b[1m1875/1875\u001b[0m \u001b[32m━━━━━━━━━━━━━━━━━━━━\u001b[0m\u001b[37m\u001b[0m \u001b[1m7s\u001b[0m 4ms/step - accuracy: 0.0974 - loss: 4.1589 - val_accuracy: 0.0980 - val_loss: 4.1589\n",
            "Epoch 8/10\n",
            "\u001b[1m1875/1875\u001b[0m \u001b[32m━━━━━━━━━━━━━━━━━━━━\u001b[0m\u001b[37m\u001b[0m \u001b[1m10s\u001b[0m 4ms/step - accuracy: 0.0992 - loss: 4.1589 - val_accuracy: 0.0980 - val_loss: 4.1589\n",
            "Epoch 9/10\n",
            "\u001b[1m1875/1875\u001b[0m \u001b[32m━━━━━━━━━━━━━━━━━━━━\u001b[0m\u001b[37m\u001b[0m \u001b[1m10s\u001b[0m 4ms/step - accuracy: 0.0967 - loss: 4.1589 - val_accuracy: 0.0980 - val_loss: 4.1589\n",
            "Epoch 10/10\n",
            "\u001b[1m1875/1875\u001b[0m \u001b[32m━━━━━━━━━━━━━━━━━━━━\u001b[0m\u001b[37m\u001b[0m \u001b[1m11s\u001b[0m 4ms/step - accuracy: 0.1015 - loss: 4.1589 - val_accuracy: 0.0980 - val_loss: 4.1589\n",
            "\u001b[1m313/313\u001b[0m \u001b[32m━━━━━━━━━━━━━━━━━━━━\u001b[0m\u001b[37m\u001b[0m \u001b[1m1s\u001b[0m 3ms/step - accuracy: 0.0924 - loss: 4.1589\n",
            "Test accuracy: 9.80%\n"
          ]
        }
      ]
    },
    {
      "cell_type": "code",
      "source": [
        "#Q5. How do you add dropout to a neural network model to prevent overfitting?\n",
        "\n",
        "import tensorflow as tf\n",
        "from tensorflow.keras import layers, models\n",
        "from tensorflow.keras.datasets import mnist\n",
        "from tensorflow.keras.utils import to_categorical\n",
        "# Load and preprocess the MNIST dataset\n",
        "(x_train, y_train), (x_test, y_test) = mnist.load_data()\n",
        "x_train = x_train.astype('float32') / 255.0\n",
        "x_test = x_test.astype('float32') / 255.0\n",
        "x_train = x_train.reshape((-1, 28 * 28))\n",
        "x_test = x_test.reshape((-1, 28 * 28))\n",
        "y_train = to_categorical(y_train, 10)\n",
        "y_test = to_categorical(y_test, 10)\n",
        "# Build a simple neural network with dropout\n",
        "model = models.Sequential([\n",
        "    layers.Dense(512, activation='relu', input_shape=(784,)),\n",
        "    layers.Dropout(0.2),  # Dropout layer with 20% dropout rate\n",
        "    layers.Dense(512, activation='relu'),\n",
        "    layers.Dropout(0.2),  # Dropout layer with 20% dropout rate\n",
        "    layers.Dense(10, activation='softmax')\n",
        "])\n",
        "model.compile(optimizer='adam',\n",
        "              loss='categorical_crossentropy',\n",
        "              metrics=['accuracy'])\n",
        "model.fit(x_train, y_train, epochs=10, batch_size=128, validation_split=0.2)\n",
        "test_loss, test_acc = model.evaluate(x_test, y_test)\n",
        "print(f'Test accuracy: {test_acc}')\n",
        "\n"
      ],
      "metadata": {
        "colab": {
          "base_uri": "https://localhost:8080/"
        },
        "id": "Ry1IpHZZcKG5",
        "outputId": "eba7576a-f2f2-4bdd-f96e-76b8b08cbf2f"
      },
      "execution_count": null,
      "outputs": [
        {
          "output_type": "stream",
          "name": "stdout",
          "text": [
            "Epoch 1/10\n",
            "\u001b[1m375/375\u001b[0m \u001b[32m━━━━━━━━━━━━━━━━━━━━\u001b[0m\u001b[37m\u001b[0m \u001b[1m10s\u001b[0m 21ms/step - accuracy: 0.8472 - loss: 0.4988 - val_accuracy: 0.9627 - val_loss: 0.1264\n",
            "Epoch 2/10\n",
            "\u001b[1m375/375\u001b[0m \u001b[32m━━━━━━━━━━━━━━━━━━━━\u001b[0m\u001b[37m\u001b[0m \u001b[1m9s\u001b[0m 19ms/step - accuracy: 0.9652 - loss: 0.1172 - val_accuracy: 0.9668 - val_loss: 0.1050\n",
            "Epoch 3/10\n",
            "\u001b[1m375/375\u001b[0m \u001b[32m━━━━━━━━━━━━━━━━━━━━\u001b[0m\u001b[37m\u001b[0m \u001b[1m10s\u001b[0m 18ms/step - accuracy: 0.9771 - loss: 0.0720 - val_accuracy: 0.9732 - val_loss: 0.0901\n",
            "Epoch 4/10\n",
            "\u001b[1m375/375\u001b[0m \u001b[32m━━━━━━━━━━━━━━━━━━━━\u001b[0m\u001b[37m\u001b[0m \u001b[1m8s\u001b[0m 20ms/step - accuracy: 0.9821 - loss: 0.0560 - val_accuracy: 0.9783 - val_loss: 0.0727\n",
            "Epoch 5/10\n",
            "\u001b[1m375/375\u001b[0m \u001b[32m━━━━━━━━━━━━━━━━━━━━\u001b[0m\u001b[37m\u001b[0m \u001b[1m10s\u001b[0m 21ms/step - accuracy: 0.9848 - loss: 0.0477 - val_accuracy: 0.9771 - val_loss: 0.0820\n",
            "Epoch 6/10\n",
            "\u001b[1m375/375\u001b[0m \u001b[32m━━━━━━━━━━━━━━━━━━━━\u001b[0m\u001b[37m\u001b[0m \u001b[1m7s\u001b[0m 18ms/step - accuracy: 0.9890 - loss: 0.0352 - val_accuracy: 0.9762 - val_loss: 0.0866\n",
            "Epoch 7/10\n",
            "\u001b[1m375/375\u001b[0m \u001b[32m━━━━━━━━━━━━━━━━━━━━\u001b[0m\u001b[37m\u001b[0m \u001b[1m11s\u001b[0m 19ms/step - accuracy: 0.9884 - loss: 0.0327 - val_accuracy: 0.9768 - val_loss: 0.0849\n",
            "Epoch 8/10\n",
            "\u001b[1m375/375\u001b[0m \u001b[32m━━━━━━━━━━━━━━━━━━━━\u001b[0m\u001b[37m\u001b[0m \u001b[1m7s\u001b[0m 20ms/step - accuracy: 0.9908 - loss: 0.0297 - val_accuracy: 0.9774 - val_loss: 0.0856\n",
            "Epoch 9/10\n",
            "\u001b[1m375/375\u001b[0m \u001b[32m━━━━━━━━━━━━━━━━━━━━\u001b[0m\u001b[37m\u001b[0m \u001b[1m9s\u001b[0m 17ms/step - accuracy: 0.9925 - loss: 0.0215 - val_accuracy: 0.9776 - val_loss: 0.0877\n",
            "Epoch 10/10\n",
            "\u001b[1m375/375\u001b[0m \u001b[32m━━━━━━━━━━━━━━━━━━━━\u001b[0m\u001b[37m\u001b[0m \u001b[1m10s\u001b[0m 18ms/step - accuracy: 0.9912 - loss: 0.0257 - val_accuracy: 0.9793 - val_loss: 0.0847\n",
            "\u001b[1m313/313\u001b[0m \u001b[32m━━━━━━━━━━━━━━━━━━━━\u001b[0m\u001b[37m\u001b[0m \u001b[1m1s\u001b[0m 4ms/step - accuracy: 0.9808 - loss: 0.0751\n",
            "Test accuracy: 0.9837999939918518\n"
          ]
        }
      ]
    },
    {
      "cell_type": "code",
      "source": [
        "#Q6. How do you manually implement forward propagation in a simple neural network?\n",
        "\n",
        "import numpy as np\n",
        "\n",
        "def sigmoid(x):\n",
        "    return 1 / (1 + np.exp(-x))\n",
        "\n",
        "# Inputs: Example input vector (e.g. 2 features)\n",
        "inputs = np.array([0.5, -0.2])\n",
        "\n",
        "# Weights for hidden layer (2 neurons, each with 2 inputs)\n",
        "weights_hidden = np.array([\n",
        "    [0.1, 0.4],   # weights for neuron 1\n",
        "    [0.3, 0.7]    # weights for neuron 2\n",
        "])\n",
        "\n",
        "# Biases for hidden layer neurons\n",
        "bias_hidden = np.array([0.1, -0.3])\n",
        "\n",
        "# Step 1: Calculate hidden layer input sums\n",
        "hidden_layer_input = np.dot(weights_hidden, inputs) + bias_hidden\n",
        "\n",
        "# Step 2: Apply activation function (sigmoid)\n",
        "hidden_layer_output = sigmoid(hidden_layer_input)\n",
        "\n",
        "# Weights for output layer (1 neuron, 2 inputs from hidden layer outputs)\n",
        "weights_output = np.array([0.2, -0.5])\n",
        "\n",
        "# Bias for output neuron\n",
        "bias_output = 0.2\n",
        "\n",
        "# Step 3: Calculate output layer input sum\n",
        "output_layer_input = np.dot(weights_output, hidden_layer_output) + bias_output\n",
        "\n",
        "# Step 4: Apply activation function to output neuron\n",
        "output = sigmoid(output_layer_input)\n",
        "\n",
        "print(\"Output of the network:\", output)\n"
      ],
      "metadata": {
        "colab": {
          "base_uri": "https://localhost:8080/"
        },
        "id": "KKJ4K6tUdmgb",
        "outputId": "cef2ad01-c8d3-4343-e595-8587e30732ff"
      },
      "execution_count": null,
      "outputs": [
        {
          "output_type": "stream",
          "name": "stdout",
          "text": [
            "Output of the network: 0.5223592373562026\n"
          ]
        }
      ]
    },
    {
      "cell_type": "code",
      "source": [
        "#Q7. How do you add batch normalization to a neural network model in Keras?\n",
        "\n",
        "import tensorflow as tf\n",
        "from tensorflow import keras\n",
        "from tensorflow.keras import layers\n",
        "\n",
        "# Load dataset\n",
        "(x_train, y_train), (x_test, y_test) = keras.datasets.mnist.load_data()\n",
        "x_train, x_test = x_train / 255.0, x_test / 255.0  # Normalize\n",
        "\n",
        "# Define the model with Batch Normalization\n",
        "model_bn = keras.Sequential([\n",
        "    layers.Flatten(input_shape=(28, 28)),\n",
        "    layers.Dense(128, activation='relu'),\n",
        "    layers.BatchNormalization(),  # Normalize activations\n",
        "    layers.Dense(64, activation='relu'),\n",
        "    layers.BatchNormalization(),\n",
        "    layers.Dense(10, activation='softmax')\n",
        "])\n",
        "\n",
        "# Compile and train\n",
        "model_bn.compile(optimizer='adam', loss='sparse_categorical_crossentropy', metrics=['accuracy'])\n",
        "model_bn.fit(x_train, y_train, epochs=5, validation_data=(x_test, y_test))\n",
        "\n"
      ],
      "metadata": {
        "colab": {
          "base_uri": "https://localhost:8080/"
        },
        "id": "rUncbSfhduyi",
        "outputId": "0adce7d4-1953-4627-f156-6c7d7946c4bd"
      },
      "execution_count": null,
      "outputs": [
        {
          "output_type": "stream",
          "name": "stderr",
          "text": [
            "/usr/local/lib/python3.11/dist-packages/keras/src/layers/reshaping/flatten.py:37: UserWarning: Do not pass an `input_shape`/`input_dim` argument to a layer. When using Sequential models, prefer using an `Input(shape)` object as the first layer in the model instead.\n",
            "  super().__init__(**kwargs)\n"
          ]
        },
        {
          "output_type": "stream",
          "name": "stdout",
          "text": [
            "Epoch 1/5\n",
            "\u001b[1m1875/1875\u001b[0m \u001b[32m━━━━━━━━━━━━━━━━━━━━\u001b[0m\u001b[37m\u001b[0m \u001b[1m12s\u001b[0m 5ms/step - accuracy: 0.8814 - loss: 0.3948 - val_accuracy: 0.9649 - val_loss: 0.1134\n",
            "Epoch 2/5\n",
            "\u001b[1m1875/1875\u001b[0m \u001b[32m━━━━━━━━━━━━━━━━━━━━\u001b[0m\u001b[37m\u001b[0m \u001b[1m9s\u001b[0m 5ms/step - accuracy: 0.9605 - loss: 0.1275 - val_accuracy: 0.9707 - val_loss: 0.0943\n",
            "Epoch 3/5\n",
            "\u001b[1m1875/1875\u001b[0m \u001b[32m━━━━━━━━━━━━━━━━━━━━\u001b[0m\u001b[37m\u001b[0m \u001b[1m10s\u001b[0m 5ms/step - accuracy: 0.9706 - loss: 0.0917 - val_accuracy: 0.9677 - val_loss: 0.0965\n",
            "Epoch 4/5\n",
            "\u001b[1m1875/1875\u001b[0m \u001b[32m━━━━━━━━━━━━━━━━━━━━\u001b[0m\u001b[37m\u001b[0m \u001b[1m11s\u001b[0m 5ms/step - accuracy: 0.9759 - loss: 0.0761 - val_accuracy: 0.9754 - val_loss: 0.0822\n",
            "Epoch 5/5\n",
            "\u001b[1m1875/1875\u001b[0m \u001b[32m━━━━━━━━━━━━━━━━━━━━\u001b[0m\u001b[37m\u001b[0m \u001b[1m10s\u001b[0m 5ms/step - accuracy: 0.9811 - loss: 0.0620 - val_accuracy: 0.9745 - val_loss: 0.0849\n"
          ]
        },
        {
          "output_type": "execute_result",
          "data": {
            "text/plain": [
              "<keras.src.callbacks.history.History at 0x7f28ef64a010>"
            ]
          },
          "metadata": {},
          "execution_count": 10
        }
      ]
    },
    {
      "cell_type": "code",
      "source": [
        "#Q8. How can you visualize the training process with accuracy and loss curves?\n",
        "\n",
        "import matplotlib.pyplot as plt\n",
        "\n",
        "# Assuming 'history' is the output from model.fit()\n",
        "loss = history.history['loss']\n",
        "val_loss = history.history['val_loss']\n",
        "accuracy = history.history['accuracy']\n",
        "val_accuracy = history.history['val_accuracy']\n",
        "epochs_range = range(1, len(loss) + 1)\n",
        "\n",
        "# Plot Loss Curves\n",
        "plt.figure(figsize=(12, 5))\n",
        "plt.subplot(1, 2, 1)\n",
        "plt.plot(epochs_range, loss, label='Training Loss')\n",
        "plt.plot(epochs_range, val_loss, label='Validation Loss')\n",
        "plt.title('Training and Validation Loss')\n",
        "plt.xlabel('Epochs')\n",
        "plt.ylabel('Loss')\n",
        "plt.legend()\n",
        "\n",
        "# Plot Accuracy Curves\n",
        "plt.subplot(1, 2, 2)\n",
        "plt.plot(epochs_range, accuracy, label='Training Accuracy')\n",
        "plt.plot(epochs_range, val_accuracy, label='Validation Accuracy')\n",
        "plt.title('Training and Validation Accuracy')\n",
        "plt.xlabel('Epochs')\n",
        "plt.ylabel('Accuracy')\n",
        "plt.legend()\n",
        "\n",
        "plt.tight_layout()\n",
        "plt.show()\n",
        "\n"
      ],
      "metadata": {
        "colab": {
          "base_uri": "https://localhost:8080/",
          "height": 507
        },
        "id": "PYAYtSyZeHZ3",
        "outputId": "95c4da4e-8a6b-47a5-861f-dda91eee7611"
      },
      "execution_count": null,
      "outputs": [
        {
          "output_type": "display_data",
          "data": {
            "text/plain": [
              "<Figure size 1200x500 with 2 Axes>"
            ],
            "image/png": "[encoded data removed]"
          },
          "metadata": {}
        }
      ]
    },
    {
      "cell_type": "code",
      "source": [
        "#Q9. How can you use gradient clipping in Keras to control the gradient size and prevent exploding gradients?\n",
        "\n",
        "import tensorflow as tf # Import tensorflow\n",
        "from tensorflow.keras.models import Sequential\n",
        "from tensorflow.keras.layers import Dense\n",
        "from tensorflow.keras.optimizers import Adam\n",
        "from tensorflow.keras.datasets import mnist # Import mnist dataset\n",
        "\n",
        "# Load and preprocess the MNIST dataset (reusing from Q5 or Q7)\n",
        "(x_train, y_train), (x_test, y_test) = mnist.load_data()\n",
        "x_train, x_test = x_train / 255.0, x_test / 255.0  # Normalize\n",
        "\n",
        "# Reshape the images to be flat\n",
        "input_dimension = x_train.shape[1] * x_train.shape[2] # Correctly define input_dimension\n",
        "x_train = x_train.reshape((-1, input_dimension))\n",
        "x_test = x_test.reshape((-1, input_dimension))\n",
        "\n",
        "# Define a simple model\n",
        "model = Sequential()\n",
        "# Use input_dimension instead of the undefined input_dim\n",
        "model.add(Dense(128, activation='relu', input_shape=(input_dimension,)))\n",
        "model.add(Dense(10, activation='softmax'))\n",
        "\n",
        "# Compile the model with gradient clipping\n",
        "optimizer = Adam(learning_rate=0.001, clipnorm=1.0)  # Clipping by norm\n",
        "# optimizer = Adam(learning_rate=0.001, clipvalue=0.5)  # Clipping by value\n",
        "\n",
        "model.compile(optimizer=optimizer, loss='sparse_categorical_crossentropy', metrics=['accuracy'])\n",
        "\n",
        "# Train the model\n",
        "# Use the loaded training and test data\n",
        "history = model.fit(x_train, y_train, epochs=5, validation_split=0.2, batch_size=32)\n",
        "\n"
      ],
      "metadata": {
        "colab": {
          "base_uri": "https://localhost:8080/"
        },
        "id": "8sH5xcp8eVqr",
        "outputId": "3b2f01bb-e094-4c94-d9de-2ae24ab8ca08"
      },
      "execution_count": null,
      "outputs": [
        {
          "output_type": "stream",
          "name": "stderr",
          "text": [
            "/usr/local/lib/python3.11/dist-packages/keras/src/layers/core/dense.py:87: UserWarning: Do not pass an `input_shape`/`input_dim` argument to a layer. When using Sequential models, prefer using an `Input(shape)` object as the first layer in the model instead.\n",
            "  super().__init__(activity_regularizer=activity_regularizer, **kwargs)\n"
          ]
        },
        {
          "output_type": "stream",
          "name": "stdout",
          "text": [
            "Epoch 1/5\n",
            "\u001b[1m1500/1500\u001b[0m \u001b[32m━━━━━━━━━━━━━━━━━━━━\u001b[0m\u001b[37m\u001b[0m \u001b[1m10s\u001b[0m 6ms/step - accuracy: 0.8651 - loss: 0.4791 - val_accuracy: 0.9596 - val_loss: 0.1415\n",
            "Epoch 2/5\n",
            "\u001b[1m1500/1500\u001b[0m \u001b[32m━━━━━━━━━━━━━━━━━━━━\u001b[0m\u001b[37m\u001b[0m \u001b[1m10s\u001b[0m 5ms/step - accuracy: 0.9606 - loss: 0.1355 - val_accuracy: 0.9642 - val_loss: 0.1174\n",
            "Epoch 3/5\n",
            "\u001b[1m1500/1500\u001b[0m \u001b[32m━━━━━━━━━━━━━━━━━━━━\u001b[0m\u001b[37m\u001b[0m \u001b[1m7s\u001b[0m 5ms/step - accuracy: 0.9760 - loss: 0.0834 - val_accuracy: 0.9712 - val_loss: 0.0939\n",
            "Epoch 4/5\n",
            "\u001b[1m1500/1500\u001b[0m \u001b[32m━━━━━━━━━━━━━━━━━━━━\u001b[0m\u001b[37m\u001b[0m \u001b[1m10s\u001b[0m 5ms/step - accuracy: 0.9834 - loss: 0.0589 - val_accuracy: 0.9721 - val_loss: 0.0931\n",
            "Epoch 5/5\n",
            "\u001b[1m1500/1500\u001b[0m \u001b[32m━━━━━━━━━━━━━━━━━━━━\u001b[0m\u001b[37m\u001b[0m \u001b[1m10s\u001b[0m 5ms/step - accuracy: 0.9861 - loss: 0.0474 - val_accuracy: 0.9746 - val_loss: 0.0847\n"
          ]
        }
      ]
    },
    {
      "cell_type": "code",
      "source": [
        "#Q10. How can you create a custom loss function in Keras?\n",
        "\n",
        "import tensorflow as tf\n",
        "from tensorflow.keras import layers, models\n",
        "\n",
        "# Define a custom loss function\n",
        "def custom_mse_loss(y_true, y_pred):\n",
        "    return tf.reduce_mean(tf.square(y_true - y_pred))\n",
        "\n",
        "# Build a simple model\n",
        "model = models.Sequential([\n",
        "    layers.Dense(64, activation='relu', input_shape=(input_dimension,)),\n",
        "    layers.Dense(1)\n",
        "])\n",
        "\n",
        "# Compile the model using the custom loss function\n",
        "model.compile(optimizer='adam', loss=custom_mse_loss, metrics=['mae'])\n",
        "\n",
        "# Now you can train your model as usual:\n",
        "# model.fit(x_train, y_train, epochs=10, validation_data=(x_val, y_val))\n",
        "\n"
      ],
      "metadata": {
        "id": "D_VlJmU1e64v"
      },
      "execution_count": null,
      "outputs": []
    },
    {
      "cell_type": "code",
      "source": [
        "#Q11 How can you visualize the structure of a neural network model in Keras?\n",
        "\n",
        "from tensorflow.keras.models import Sequential\n",
        "from tensorflow.keras.layers import Dense\n",
        "from tensorflow.keras.utils import plot_model\n",
        "\n",
        "# Define a simple model\n",
        "model = Sequential([\n",
        "    Dense(32, activation='relu', input_shape=(16,)),\n",
        "    Dense(16, activation='relu'),\n",
        "    Dense(1, activation='sigmoid')\n",
        "])\n",
        "\n",
        "# Visualize the model structure\n",
        "plot_model(model, to_file='model.png', show_shapes=True, show_layer_names=True)\n"
      ],
      "metadata": {
        "colab": {
          "base_uri": "https://localhost:8080/",
          "height": 994
        },
        "id": "bRn_t962gPMe",
        "outputId": "977de3cc-7d8b-47c1-8573-e666cbb554ed"
      },
      "execution_count": null,
      "outputs": [
        {
          "output_type": "stream",
          "name": "stderr",
          "text": [
            "/usr/local/lib/python3.11/dist-packages/keras/src/layers/core/dense.py:87: UserWarning: Do not pass an `input_shape`/`input_dim` argument to a layer. When using Sequential models, prefer using an `Input(shape)` object as the first layer in the model instead.\n",
            "  super().__init__(activity_regularizer=activity_regularizer, **kwargs)\n"
          ]
        },
        {
          "output_type": "execute_result",
          "data": {
            "image/png": "[encoded data removed]",
            "text/plain": [
              "<IPython.core.display.Image object>"
            ]
          },
          "metadata": {},
          "execution_count": 26
        }
      ]
    }
  ]
}